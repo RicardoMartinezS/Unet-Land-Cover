{
 "cells": [
  {
   "cell_type": "code",
   "execution_count": 2,
   "metadata": {},
   "outputs": [],
   "source": [
    "import os\n",
    "import numpy as np\n",
    "import rasterio\n",
    "from rasterio.windows import from_bounds\n",
    "\n"
   ]
  },
  {
   "cell_type": "code",
   "execution_count": 4,
   "metadata": {},
   "outputs": [],
   "source": [
    "\n",
    "# Rutas de entrada\n",
    "landsat_tiles_dir = './Datos/WCS_land_use/train_200218'  # Carpeta con los tiles Landsat\n",
    "dem_path = './Datos/WCS_land_use/Imagery/wcs_orinoquia_srtm.tif'              # DEM grande (SRTM)\n",
    "output_dir = './Datos/WCS_land_use/DEM'     # Carpeta de salida\n",
    "\n",
    "os.makedirs(output_dir, exist_ok=True)\n",
    "\n",
    "# Parámetros de normalización (ajusta según tu DEM)\n",
    "dem_mean = 595.44\n",
    "dem_std = 735.92\n",
    "\n",
    "# Abrir DEM grande una sola vez\n",
    "with rasterio.open(dem_path) as dem_src:\n",
    "    for tile_name in os.listdir(landsat_tiles_dir):  # Quita tqdm\n",
    "        if not tile_name.endswith('.tif'):\n",
    "            continue\n",
    "\n",
    "        tile_path = os.path.join(landsat_tiles_dir, tile_name)\n",
    "        out_path = os.path.join(output_dir, tile_name)\n",
    "\n",
    "        with rasterio.open(tile_path) as tile_src:\n",
    "            landsat = tile_src.read()\n",
    "            profile = tile_src.profile\n",
    "\n",
    "            bounds = tile_src.bounds\n",
    "            dem_window = from_bounds(*bounds, transform=dem_src.transform)\n",
    "            dem_data = dem_src.read(1, window=dem_window, out_shape=(landsat.shape[1], landsat.shape[2]))\n",
    "\n",
    "            dem_norm = (dem_data - dem_mean) / dem_std\n",
    "            dem_norm = dem_norm.astype(np.float32)\n",
    "            dem_norm = np.expand_dims(dem_norm, axis=0)\n",
    "\n",
    "            stacked = np.concatenate([landsat, dem_norm], axis=0)\n",
    "\n",
    "            profile.update({\n",
    "                'count': stacked.shape[0],\n",
    "                'dtype': 'float32',\n",
    "                'compress': 'lzw'\n",
    "            })\n",
    "\n",
    "            with rasterio.open(out_path, 'w', **profile) as dst:\n",
    "                dst.write(stacked)"
   ]
  }
 ],
 "metadata": {
  "kernelspec": {
   "display_name": "Python 3",
   "language": "python",
   "name": "python3"
  },
  "language_info": {
   "codemirror_mode": {
    "name": "ipython",
    "version": 3
   },
   "file_extension": ".py",
   "mimetype": "text/x-python",
   "name": "python",
   "nbconvert_exporter": "python",
   "pygments_lexer": "ipython3",
   "version": "3.13.2"
  }
 },
 "nbformat": 4,
 "nbformat_minor": 4
}
