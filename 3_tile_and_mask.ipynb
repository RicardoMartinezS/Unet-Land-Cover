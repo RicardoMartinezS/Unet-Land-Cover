{
 "cells": [
  {
   "cell_type": "code",
   "execution_count": 1,
   "metadata": {},
   "outputs": [],
   "source": [
    "import os\n",
    "import rasterio\n",
    "from rasterio.windows import Window\n",
    "import numpy as np"
   ]
  },
  {
   "cell_type": "code",
   "execution_count": 2,
   "metadata": {},
   "outputs": [],
   "source": [
    "img_path = './Datos/WCS_land_use/Imagery/wcs_orinoquia_sr_2013_2014.tif'\n",
    "out_dir = './Datos/WCS_land_use/train_200218'\n",
    "tile_size = 500\n",
    "\n",
    "os.makedirs(out_dir, exist_ok=True)\n",
    "\n",
    "with rasterio.open(img_path) as src:\n",
    "    width = src.width\n",
    "    height = src.height\n",
    "    for i in range(0, width, tile_size):\n",
    "        for j in range(0, height, tile_size):\n",
    "            w = min(tile_size, width - i)\n",
    "            h = min(tile_size, height - j)\n",
    "            window = Window(i, j, w, h)\n",
    "            transform = src.window_transform(window)\n",
    "            tile = src.read(window=window)\n",
    "            tile_name = f\"tile_{i}_{j}.tif\"\n",
    "            out_path = os.path.join(out_dir, tile_name)\n",
    "            profile = src.profile\n",
    "            profile.update({\n",
    "                'height': h,\n",
    "                'width': w,\n",
    "                'transform': transform\n",
    "            })\n",
    "            with rasterio.open(out_path, 'w', **profile) as dst:\n",
    "                dst.write(tile)"
   ]
  },
  {
   "cell_type": "code",
   "execution_count": 3,
   "metadata": {},
   "outputs": [],
   "source": [
    "import geopandas as gpd\n",
    "from rasterio.features import rasterize\n",
    "\n",
    "label_path = './Datos/villavicencioWCS.gpkg'  # Usa tu ruta relativa\n",
    "gdf = gpd.read_file(label_path)\n",
    "\n",
    "mask_dir = './Datos/masks'\n",
    "os.makedirs(mask_dir, exist_ok=True)\n",
    "\n",
    "with rasterio.open(img_path) as src:\n",
    "    width = src.width\n",
    "    height = src.height\n",
    "    for i in range(0, width, tile_size):\n",
    "        for j in range(0, height, tile_size):\n",
    "            w = min(tile_size, width - i)\n",
    "            h = min(tile_size, height - j)\n",
    "            window = Window(i, j, w, h)\n",
    "            transform = src.window_transform(window)\n",
    "            bounds = rasterio.windows.bounds(window, src.transform)\n",
    "            # Recorta los polígonos al tile\n",
    "            tile_gdf = gdf.cx[bounds[0]:bounds[2], bounds[1]:bounds[3]]\n",
    "            if tile_gdf.empty:\n",
    "                mask = np.zeros((h, w), dtype=np.uint8)\n",
    "            else:\n",
    "                # Cambia 'tu_campo_clase' por el nombre real de tu columna de clase\n",
    "                mask = rasterize(\n",
    "                    [(geom, value) for geom, value in zip(tile_gdf.geometry, tile_gdf['Class_WCS_coarse'])],\n",
    "                    out_shape=(h, w),\n",
    "                    transform=transform,\n",
    "                    fill=0,\n",
    "                    dtype=np.uint8\n",
    "                )\n",
    "            mask_name = f\"mask_{i}_{j}.tif\"\n",
    "            out_path = os.path.join(mask_dir, mask_name)\n",
    "            profile = src.profile\n",
    "            profile.update({\n",
    "                'height': h,\n",
    "                'width': w,\n",
    "                'transform': transform,\n",
    "                'count': 1,\n",
    "                'dtype': np.uint8\n",
    "            })\n",
    "            with rasterio.open(out_path, 'w', **profile) as dst:\n",
    "                dst.write(mask, 1)"
   ]
  }
 ],
 "metadata": {
  "kernelspec": {
   "display_name": "Python 3",
   "language": "python",
   "name": "python3"
  },
  "language_info": {
   "codemirror_mode": {
    "name": "ipython",
    "version": 3
   },
   "file_extension": ".py",
   "mimetype": "text/x-python",
   "name": "python",
   "nbconvert_exporter": "python",
   "pygments_lexer": "ipython3",
   "version": "3.13.2"
  }
 },
 "nbformat": 4,
 "nbformat_minor": 2
}
